{
 "cells": [
  {
   "cell_type": "code",
   "execution_count": 1,
   "id": "10c908a0",
   "metadata": {},
   "outputs": [],
   "source": [
    "import string\n",
    "from matplotlib import pyplot as plt\n",
    "import numpy as np\n",
    "from scipy.stats import poisson\n",
    "from sklearn.utils import check_random_state\n",
    "from sklearn import cluster\n",
    "from scipy.stats import poisson\n",
    "from hmmlearn.base import _BaseHMM"
   ]
  },
  {
   "cell_type": "code",
   "execution_count": 2,
   "id": "5a8e9f9d",
   "metadata": {},
   "outputs": [],
   "source": [
    "def normalize(A, axis=None):\n",
    "    \"\"\"Normalize the input array so that it sums to 1.\n",
    "    Parameters\n",
    "    ----------\n",
    "    A: array, shape (n_samples, n_features)\n",
    "        Non-normalized input data.\n",
    "    axis: int\n",
    "        Dimension along which normalization is performed.\n",
    "    Returns\n",
    "    -------\n",
    "    normalized_A: array, shape (n_samples, n_features)\n",
    "        A with values normalized (summing to 1) along the prescribed axis\n",
    "    WARNING: Modifies the array inplace.\n",
    "    \"\"\"\n",
    "    A += np.finfo(float).eps\n",
    "    Asum = A.sum(axis)\n",
    "    if axis and A.ndim > 1:\n",
    "        # Make sure we don't divide by zero.\n",
    "        Asum[Asum == 0] = 1\n",
    "        shape = list(A.shape)\n",
    "        shape[axis] = 1\n",
    "        Asum.shape = shape\n",
    "    A /= Asum\n",
    "    # TODO: should return nothing, since the operation is inplace.\n",
    "    return A"
   ]
  },
  {
   "cell_type": "markdown",
   "id": "c8ea07cb",
   "metadata": {},
   "source": [
    "# Implement the Hidden Markov Model with Poisson emissions"
   ]
  },
  {
   "cell_type": "code",
   "execution_count": 3,
   "id": "d1c3e35e",
   "metadata": {},
   "outputs": [],
   "source": [
    "\n",
    "__all__ = ['GMMHMM',\n",
    "           'GaussianHMM',\n",
    "           'MultinomialHMM']\n",
    "\n",
    "NEGINF = -np.inf\n",
    "\n",
    "\n",
    "class PoissonHMM(_BaseHMM):\n",
    "    \"\"\"Hidden Markov Model with Poisson emissions\n",
    "    Representation of a hidden Markov model probability distribution.\n",
    "    This class allows for easy evaluation of, sampling from, and\n",
    "    maximum-likelihood estimation of the parameters of a HMM.\n",
    "    \"\"\"\n",
    "    def __init__(self, n_components=1, startprob=None,\n",
    "                 transmat=None, startprob_prior=None, transmat_prior=None,\n",
    "                 algorithm=\"viterbi\", means_prior=0, \n",
    "                 random_state=None, n_iter=10, thresh=1e-2,\n",
    "                 params=string.ascii_letters,\n",
    "                 init_params=string.ascii_letters):\n",
    "        _BaseHMM.__init__(self, n_components, startprob, transmat,\n",
    "                          startprob_prior=startprob_prior,\n",
    "                          transmat_prior=transmat_prior, algorithm=algorithm,\n",
    "                          random_state=random_state, n_iter=n_iter,\n",
    "                          thresh=thresh, params=params,\n",
    "                          init_params=init_params)\n",
    "        self.means_prior = means_prior\n",
    " \n",
    "\n",
    "    def _get_means(self):\n",
    "        \"\"\"lambda parameters for each state.\"\"\"\n",
    "        return self._means_\n",
    "\n",
    "\n",
    "    def _set_means(self, means):\n",
    "        means = np.asarray(means)\n",
    "        if (hasattr(self, 'n_features')\n",
    "                and means.shape != (self.n_components, self.n_features)):\n",
    "            raise ValueError('means must have shape '\n",
    "                             '(n_components, n_features)')\n",
    "        self._means_ = means.copy()\n",
    "        self.n_features = self._means_.shape[1]\n",
    "\n",
    "    \n",
    "    means_ = property(_get_means, _set_means)\n",
    "\n",
    "\n",
    "    def _compute_log_likelihood(self, obs):\n",
    "        all_obs = np.concatenate(obs)\n",
    "        logp = np.empty([1, len(all_obs)])\n",
    "\n",
    "        for lam in self._means_:\n",
    "            p = poisson.logpmf(all_obs, lam)\n",
    "            logp = np.vstack((logp,p))\n",
    "        logp = logp[1:,:]\n",
    "\n",
    "\n",
    "        return logp.T \n",
    "\n",
    "\n",
    "\n",
    "    def _init(self, obs, params='stmc'):\n",
    "        super(PoissonHMM, self)._init(obs, params=params)\n",
    "\n",
    "        all_obs = np.concatenate(obs)\n",
    "        _, n_features = all_obs.shape\n",
    "\n",
    "        if hasattr(self, 'n_features') and self.n_features != n_features:\n",
    "            raise ValueError('Unexpected number of dimensions, got %s but '\n",
    "                             'expected %s' % (n_features, self.n_features))\n",
    "\n",
    "        self.n_features = n_features\n",
    "        if 'm' in params:\n",
    "            self._means_ = self.means_prior\n",
    "\n",
    "                     \n",
    "\n",
    "    def _initialize_sufficient_statistics(self):\n",
    "        stats = super(PoissonHMM, self)._initialize_sufficient_statistics()\n",
    "\n",
    "        stats['post'] = np.zeros(self.n_components)\n",
    "        stats['obs'] = np.zeros((self.n_components, self.n_features)) # expected number in state\n",
    "\n",
    "        return stats\n",
    "\n",
    "    def _accumulate_sufficient_statistics(self, stats, obs, framelogprob,\n",
    "                                          posteriors, fwdlattice, bwdlattice,\n",
    "                                          params):\n",
    "\n",
    "        super(PoissonHMM, self)._accumulate_sufficient_statistics(\n",
    "            stats, obs, framelogprob, posteriors, fwdlattice, bwdlattice,\n",
    "            params)\n",
    "\n",
    "        if 'm' in params or 'c' in params:\n",
    "            stats['post'] += posteriors.sum(axis=0)\n",
    "            stats['obs'] += np.dot(posteriors.T, obs)\n",
    "\n",
    "    def _do_mstep(self, stats, params):\n",
    "        super(PoissonHMM, self)._do_mstep(stats, params)\n",
    "\n",
    "        denom = stats['post'][:, np.newaxis]\n",
    "        if 'm' in params:\n",
    "            self._means_ = ((stats['obs']) / (denom))\n",
    "        self._means_ = np.maximum(self._means_, np.array([[self.means_prior[0]],[self.means_prior[0]],[self.means_prior[0]]]))\n",
    "\n",
    "\n",
    "\n",
    "    def fit(self, obs):\n",
    "        \"\"\"Estimate model parameters.\n",
    "        An initialization step is performed before entering the EM\n",
    "        algorithm. If you want to avoid this step, pass proper\n",
    "        ``init_params`` keyword argument to estimator's constructor.\n",
    "        Parameters\n",
    "        ----------\n",
    "        obs : list\n",
    "            List of array-like observation sequences, each of which\n",
    "            has shape (n_i, n_features), where n_i is the length of\n",
    "            the i_th observation.\n",
    "        \"\"\"\n",
    "        \n",
    "        return super(PoissonHMM, self).fit(obs)"
   ]
  },
  {
   "cell_type": "code",
   "execution_count": null,
   "id": "fc0aca11",
   "metadata": {},
   "outputs": [],
   "source": []
  },
  {
   "cell_type": "code",
   "execution_count": null,
   "id": "eb082f64",
   "metadata": {},
   "outputs": [],
   "source": []
  },
  {
   "cell_type": "markdown",
   "id": "184ba44e",
   "metadata": {},
   "source": [
    "# Read the data sequence\n",
    "\n",
    "We are given a data sequence consisting on number of earthquakes for each year between the years 1900 and 2006."
   ]
  },
  {
   "cell_type": "code",
   "execution_count": 4,
   "id": "a4d4c007",
   "metadata": {},
   "outputs": [],
   "source": [
    "state_seq = []\n",
    "observation_seq = []\n",
    "f = open('earthquakes.txt','r')\n",
    "line = f.readline()\n",
    "while line:\n",
    "    line=line.rstrip().split('\t')\n",
    "    state_seq.append(int(line[0]))\n",
    "    observation_seq.append(int(line[1]))\n",
    "    line = f.readline()\n",
    "    \n",
    "state_seq = np.array(state_seq)\n",
    "observation_seq = np.array(observation_seq)"
   ]
  },
  {
   "cell_type": "code",
   "execution_count": 5,
   "id": "6bb81247",
   "metadata": {},
   "outputs": [
    {
     "data": {
      "image/png": "[encoded data removed]",
      "text/plain": [
       "<Figure size 432x288 with 1 Axes>"
      ]
     },
     "metadata": {
      "needs_background": "light"
     },
     "output_type": "display_data"
    }
   ],
   "source": [
    "fig, ax = plt.subplots()\n",
    "\n",
    "# the histogram of the data\n",
    "plt.bar(state_seq, observation_seq, color='lightblue')\n",
    "\n",
    "ax.set_xlabel('year')\n",
    "ax.set_ylabel('earthquakes')\n",
    "ax.set_title(r'Earthquakes between the years 1900 and 2006')\n",
    "\n",
    "# Tweak spacing to prevent clipping of ylabel\n",
    "fig.tight_layout()\n",
    "plt.show()\n"
   ]
  },
  {
   "cell_type": "markdown",
   "id": "d043768e",
   "metadata": {},
   "source": [
    "# Direct maximization of the likelihood\n",
    "\n",
    "The likelihood of a mixture model with m components is given, for both discrete and continuous cases by:\n",
    "\\begin{equation}\n",
    "L(\\theta_1,...,\\theta_m,\\delta_1,...,\\delta_m|x_1,...,x_n) = \\prod_{j=1}^n\\sum_{i=1}^m\\delta_ip_i(x_j,\\theta_i)\n",
    "\\end{equation}\n",
    "- Where $\\theta_1,...,\\theta_m$ are the paramenter vectors for the component distributions,\n",
    "- $\\delta_1,...,\\delta_m$ are the mixing parameters, totalling 1,\n",
    "- $x_1,...,x_n$ the $n$ observations.\n",
    "Supose $m = 2$, and the two components are Poisson-distributed, which means $\\lambda_1$ and $\\lambda_2$. Let $\\delta_1$ and $\\delta_2$ be the mixing parameters (with $\\delta_1+\\delta_2 =1$). The mixture distribution $p$ is then given by:\n",
    "\\begin{equation}\n",
    "p(x) = \\delta_1\\frac{\\lambda^x_1e^{-\\lambda_1}}{x!}+\\delta_2\\frac{\\lambda^x_2e^{-\\lambda_2}}{x!}\n",
    "\\end{equation}\n",
    "Since $\\delta_2 = 1 - \\delta_1$, there are only three parameters to be estimated: $\\lambda_1,\\lambda_2$ and $\\delta_1$. The likelihood is:\n",
    "\\begin{equation}\n",
    "L(\\lambda_1,\\lambda_2,\\delta_1|x_1,...,x_n) = \\prod_{i=1}^n\\delta_1\\frac{\\lambda^x_1e^{-\\lambda_1}}{x_i!}+(1-\\delta_1)\\frac{\\lambda^x_2e^{-\\lambda_2}}{x_i!}\n",
    "\\end{equation}\n",
    "\n",
    "The analytic maximization of $L$ with respect to $\\lambda_1,\\lambda_2$ and $\\delta_1$ would be awkward, as $L$ is the product of $n$ factors, each of which is a sum. Therefore parameter estimation is more conveniently carried out by direct numerical maximization of the likelihood or its logarithm.\n",
    "However, the parameters $\\delta$ and $\\lambda$ are constrained by $\\sum^m_{i=1}\\delta_i = 1$ and (for i=1,...,$m$)$\\delta_i>0$ and $\\lambda_i>0$. It is therefore necessary to reparametrize when using an unconstrained optimizer.\n",
    "One possibility is to maximize the likelihood with respect to the 2m-1 unconstrained 'working parameters'.\n",
    "\\begin{equation}\n",
    "\\eta_i = log\\lambda_i \\; (i=1,...,m)\n",
    "\\end{equation}\n",
    "and\n",
    "\\begin{equation}\n",
    "\\tau_i = log\\left( \\frac{\\delta_i}{1-\\sum^m_{j=2}\\delta_j}\\right) \\; (i=2,...,m)\n",
    "\\end{equation}\n",
    "and\n",
    "\\begin{equation}\n",
    "\\delta_1 = 1 - \\sum^m_{j=2}\\delta_i\n",
    "\\end{equation}"
   ]
  },
  {
   "cell_type": "markdown",
   "id": "b9c77bd2",
   "metadata": {},
   "source": [
    "## Hidden Markov Models"
   ]
  },
  {
   "cell_type": "markdown",
   "id": "8b51c29e",
   "metadata": {},
   "source": [
    "### The likelihood\n",
    "\n",
    "Consider a HMM in general with observation sequence $x_1,x_2,...,x_T$. The probability $L_T$ of observed that sequence is calculated under an m-state HMM which has initial distribution $\\delta$ and transition probability matrix $\\daleth$ for the markov chainm and state-dependent probability (density) functions $p_i$.\n",
    "\n",
    "The likelihood is then given by:\n",
    "\\begin{equation}\n",
    "L_T = \\delta P(x_1)\\daleth P(x_2)...\\daleth P(x_T)1'\n",
    "\\end{equation}\n",
    "If $\\delta$, the distribution of $C_1$, is the stationary distribution of the Markov chain, then in addition:\n",
    "\\begin{equation}\n",
    "L_T = \\delta\\daleth P(x_1)\\daleth P(x_2)...\\daleth P(x_T)1'\n",
    "\\end{equation}\n",
    "\n",
    "#### The forward algorithm\n",
    "The forward algorithm is a recursive computation of the likelihood, which is computationally much more efficient than the brute-force summation. This computational inexpensiveness is the key feature of HMMs.\n",
    "\n",
    "We state the forward algorithm by the vector $\\alpha_t$, for $t=1,2,...,T$ by:\n",
    "\\begin{equation}\n",
    "\\alpha_t = \\delta P(x_1)\\daleth P(x_2)...\\daleth P(x_t) = \\delta P(x_1)\\prod_{s=2}^t\\daleth P(x_s)\n",
    "\\end{equation}\n",
    "So then the likelihood:\n",
    "\\begin{equation}\n",
    "L_T = \\alpha_T1'\n",
    "\\end{equation}\n",
    "and:\n",
    "\\begin{equation}\n",
    "\\alpha_t = \\alpha_{t-1}\\daleth P(x_t) \\;  for \\; t\\ge 2\n",
    "\\end{equation}\n",
    "- **Numerical (over/under)flow:** for discrete state-dependent distributions, the elements of $\\alpha_t$, being made up of products of probabilities, become progressively smaller as $t$ increases. For the continous case, it reaches $\\inf$. The solution is the same for over and underflow: scaling the vector $\\alpha_t$ at eacht time $t$ so that its elemets sum up to 1.\n",
    "\n",
    "The elements of the vector $\\alpha_t$ are referred as **forward probabilities**.\n",
    "\n",
    "The number of operations is of order Tm^2. But there are several numerical problems to overcome:\n",
    "\n",
    "\\begin{equation}\n",
    "\\phi_t = \\alpha_t/w_t, \\; with \\; w_t = \\sum_i\\alpha_t(i)\n",
    "\\end{equation}\n",
    "Hence,\n",
    "\\begin{equation}\n",
    "logL_T = \\sum_{t=1}^Tlog(w_t/w_{t-1}) = \\sum_{t=1}^Tlog(\\phi_{t-1}\\daleth P(x_t)1')\n",
    "\\end{equation}\n",
    "- **Constraints:** we can have constrains that apply to the parameters of the state-dependent distributions, and to the parameters of the Markov chain. The relevant constrains for a Poisson HMM are:\n",
    "    - the means $\\lambda_i$ of the state-dependent distributions must be non-negative.\n",
    "    - The rows of the transition probability matrix $\\daleth$ must sum up to one, with all parameters $\\gamma_{ij}$ non-negative.\n"
   ]
  },
  {
   "cell_type": "code",
   "execution_count": null,
   "id": "98846603",
   "metadata": {},
   "outputs": [],
   "source": []
  },
  {
   "cell_type": "code",
   "execution_count": null,
   "id": "ba0a5e73",
   "metadata": {},
   "outputs": [],
   "source": []
  },
  {
   "cell_type": "code",
   "execution_count": null,
   "id": "6bd78898",
   "metadata": {},
   "outputs": [],
   "source": []
  },
  {
   "cell_type": "markdown",
   "id": "10c5a37e",
   "metadata": {},
   "source": [
    "# The EM algorithm \n",
    "\n",
    "## for a Mixture model of 3 Poisson distributions"
   ]
  },
  {
   "cell_type": "code",
   "execution_count": 6,
   "id": "b810d600",
   "metadata": {},
   "outputs": [],
   "source": [
    "from scipy.stats import poisson"
   ]
  },
  {
   "cell_type": "markdown",
   "id": "5f1d55ae",
   "metadata": {},
   "source": [
    "Assuming that the earthquakes data is distributed according to a Poisson mixture model, here I will implement the EM algorithm to learn the probability parameters.\n",
    "\n",
    "The data notation is as follows:\n",
    "\n",
    "   - The full data $(X,Y)$ corresponding to periods with high and low amounts of earthquakes.\n",
    "   - The observed data $ Y = y_i, i= 1,...,n$ corresponds to the number of earthquakes.\n",
    "   - The missing data is \"in what period we are for the amount of earthquakes\", $X = (x_1,...,x_n) \\in \\{1,2,3\\}^n$\n",
    "   - The parameters $\\theta = \\{\\lambda_1,\\lambda_2,\\lambda_3,\\delta_1,\\delta_2,\\delta_3\\}$\n",
    "   \n",
    "The EM algorithm converges towards a local maximum of the data log-likelihood function. It starts with an initializing value $\\theta^0$, which is updated by an iterative procedure of two steps: the E step and the M step.\n",
    "\n",
    "Considering a Poisson mixture of three components like we will do in this example, we have three disjoint events, with $\\delta_k$ the probability of being in each of the three classes.\n",
    "\\begin{equation}\n",
    "\\delta_1 = P(x_i=1), \\delta_2 = P(x_i=2), \\delta_3 = P(x_i=3) = 1-\\delta_1-\\delta_2\n",
    "\\end{equation}\n",
    "The probability of having our given data given that we are in a class k is given by:\n",
    "\\begin{equation}\n",
    "y_i|x_i = 1∼Po(\\lambda_1), y_i|x_i = 2∼Po(\\lambda_2), y_i|x_i = 3∼Po(\\lambda_3)\n",
    "\\end{equation}"
   ]
  },
  {
   "cell_type": "code",
   "execution_count": 7,
   "id": "70fab01a",
   "metadata": {},
   "outputs": [],
   "source": [
    "X = state_seq\n",
    "Y = observation_seq"
   ]
  },
  {
   "cell_type": "markdown",
   "id": "6bd5bc7f",
   "metadata": {},
   "source": [
    "### The E step"
   ]
  },
  {
   "cell_type": "markdown",
   "id": "abf99ea5",
   "metadata": {},
   "source": [
    "Since the complete log-likelihood is unknown, we use the posterior to evaluate the expectation of the complete data log-likelihood.\n",
    "\n",
    "Computes the conditional probability that the hidden state $x_i=1$\n",
    "\\begin{equation}\n",
    "P(X_i = 1 | Y_i = y_i) = \n",
    "\\end{equation}"
   ]
  },
  {
   "cell_type": "code",
   "execution_count": 8,
   "id": "8a52b38a",
   "metadata": {},
   "outputs": [],
   "source": [
    "def E_step(delta,lmbda,data):\n",
    "    # Handling errors\n",
    "    if np.sum(delta)!=1:\n",
    "        raise ValueError('Delta is not a probability distribution (the values dont sum up to 1)')\n",
    "    # Conditional probability of delta given y\n",
    "    delta_prob = 0\n",
    "    for i in range (len(lmbda)):\n",
    "        delta_prob += delta[i] * poisson.pmf(k=data,mu=lmbda[i])    \n",
    "        \n",
    "    # Conditional probability of each class given data\n",
    "    # Probability of mixture 1 to m\n",
    "    prob = []\n",
    "    for i in range (len(lmbda)-1):\n",
    "        prob.append(delta[i] * poisson.pmf(data,lmbda[i])/delta_prob)\n",
    "      \n",
    "    return prob"
   ]
  },
  {
   "cell_type": "markdown",
   "id": "b6e089aa",
   "metadata": {},
   "source": [
    "### The M step\n",
    "\n",
    "Updates the probability parameters so that they maximize the expected value of the data log likelihood."
   ]
  },
  {
   "cell_type": "code",
   "execution_count": 9,
   "id": "6d1b7e98",
   "metadata": {},
   "outputs": [],
   "source": [
    "def M_step(prob ,delta, lmbda, data):    \n",
    "    n_i = [] # number of times we expect to see each mixture, from xi = 1 to xi = m\n",
    "    s_i = [] # sum of data points in the indicator components\n",
    "    for i in range(len(lmbda)-1):\n",
    "        n_i.append(np.sum(prob[i]))\n",
    "        s_i.append(np.sum(data*prob[i]))\n",
    "    n_i.append(len(data)-np.sum(n_i))\n",
    "    s_i.append(np.sum(data)-np.sum(s_i))\n",
    "    \n",
    "    \n",
    "    delta = np.asarray(n_i)/len(data)\n",
    "    delta = np.append(delta,1-sum(delta))\n",
    "\n",
    "        \n",
    "    lmbda = np.divide(np.asarray(s_i),np.asarray(n_i))\n",
    "\n",
    "    \n",
    "    \n",
    "    return delta, lmbda"
   ]
  },
  {
   "cell_type": "code",
   "execution_count": 10,
   "id": "ea8b06c7",
   "metadata": {},
   "outputs": [],
   "source": [
    "def EM_algorithm(delta,lmbda,data,iterations):\n",
    "    prob = 0.\n",
    "    for i in range(iterations):\n",
    "        prob = E_step(delta,lmbda,Y)\n",
    "        delta,lmbda    = M_step(prob, delta,lmbda,Y)\n",
    "        \n",
    "    return delta,lmbda"
   ]
  },
  {
   "cell_type": "code",
   "execution_count": 11,
   "id": "8384eb8a",
   "metadata": {},
   "outputs": [
    {
     "data": {
      "text/plain": [
       "(array([0.27716677, 0.59308916, 0.12974408, 0.        ]),\n",
       " array([12.73203817, 19.78158473, 31.62645129]))"
      ]
     },
     "execution_count": 11,
     "metadata": {},
     "output_type": "execute_result"
    }
   ],
   "source": [
    "Y = observation_seq\n",
    "delta = np.array([0.5,0.4,0.1])\n",
    "lmbda = np.array([10.,20.,30.])\n",
    "EM_algorithm(delta,lmbda, Y, 100)"
   ]
  },
  {
   "cell_type": "code",
   "execution_count": null,
   "id": "6fac2a48",
   "metadata": {},
   "outputs": [],
   "source": []
  },
  {
   "cell_type": "code",
   "execution_count": null,
   "id": "c8a9f312",
   "metadata": {},
   "outputs": [],
   "source": []
  },
  {
   "cell_type": "code",
   "execution_count": null,
   "id": "685946c2",
   "metadata": {},
   "outputs": [],
   "source": []
  },
  {
   "cell_type": "code",
   "execution_count": null,
   "id": "9329096a",
   "metadata": {},
   "outputs": [],
   "source": []
  },
  {
   "cell_type": "markdown",
   "id": "perceived-documentary",
   "metadata": {},
   "source": [
    "Function for a Poisson Maximum Likelihood estimator"
   ]
  },
  {
   "cell_type": "code",
   "execution_count": null,
   "id": "ab9c8afb",
   "metadata": {},
   "outputs": [],
   "source": []
  },
  {
   "cell_type": "code",
   "execution_count": null,
   "id": "17373533",
   "metadata": {},
   "outputs": [],
   "source": []
  },
  {
   "cell_type": "code",
   "execution_count": null,
   "id": "ce63fa87",
   "metadata": {},
   "outputs": [],
   "source": []
  },
  {
   "cell_type": "code",
   "execution_count": null,
   "id": "9f96bfba",
   "metadata": {},
   "outputs": [],
   "source": []
  },
  {
   "cell_type": "code",
   "execution_count": 12,
   "id": "tender-coordinator",
   "metadata": {},
   "outputs": [
    {
     "ename": "SyntaxError",
     "evalue": "unexpected EOF while parsing (<ipython-input-12-228930fc8cd8>, line 14)",
     "output_type": "error",
     "traceback": [
      "\u001b[0;36m  File \u001b[0;32m\"<ipython-input-12-228930fc8cd8>\"\u001b[0;36m, line \u001b[0;32m14\u001b[0m\n\u001b[0;31m    \u001b[0m\n\u001b[0m    ^\u001b[0m\n\u001b[0;31mSyntaxError\u001b[0m\u001b[0;31m:\u001b[0m unexpected EOF while parsing\n"
     ]
    }
   ],
   "source": [
    "class Poisson_HMM(object):\n",
    "    def __init__(self, states, n_states):\n",
    "        self.x = states\n",
    "        self.m = n_states\n",
    "        \n",
    "    def pn2pw(m,lmbda,gamma,delta=None,stationary=True):\n",
    "        '''natural parameters to working parametes'''\n",
    "        tlambda = np.log(lmbda)\n",
    "        if m == 1:\n",
    "            return tlambda\n",
    "        foo = np.log(gamma/np.diag(gamma))\n",
    "        \n",
    "    def mle(self,x,m,lmbda_ini,delta_ini,stationary):\n",
    "    "
   ]
  },
  {
   "cell_type": "markdown",
   "id": "sensitive-alexander",
   "metadata": {},
   "source": [
    "Fit a 2-state Hidden Markov Model"
   ]
  },
  {
   "cell_type": "code",
   "execution_count": null,
   "id": "tamil-warrior",
   "metadata": {},
   "outputs": [],
   "source": [
    "m = 2\n",
    "lmbda_ini = np.array([15,25])\n",
    "gamma_ini = np.array([[0.9,0.1],[0.1,0.9]])"
   ]
  }
 ],
 "metadata": {
  "kernelspec": {
   "display_name": "Python 3",
   "language": "python",
   "name": "python3"
  },
  "language_info": {
   "codemirror_mode": {
    "name": "ipython",
    "version": 3
   },
   "file_extension": ".py",
   "mimetype": "text/x-python",
   "name": "python",
   "nbconvert_exporter": "python",
   "pygments_lexer": "ipython3",
   "version": "3.6.9"
  }
 },
 "nbformat": 4,
 "nbformat_minor": 5
}
