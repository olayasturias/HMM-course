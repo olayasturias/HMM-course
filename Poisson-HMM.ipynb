{
 "cells": [
  {
   "cell_type": "code",
   "execution_count": 1,
   "id": "10c908a0",
   "metadata": {},
   "outputs": [],
   "source": [
    "import string\n",
    "from matplotlib import pyplot as plt\n",
    "import numpy as np\n",
    "from scipy.stats import poisson\n",
    "from sklearn.utils import check_random_state\n",
    "from sklearn import cluster\n",
    "from scipy.stats import poisson\n",
    "from scipy.optimize import minimize"
   ]
  },
  {
   "cell_type": "markdown",
   "id": "184ba44e",
   "metadata": {},
   "source": [
    "# Read the data sequence\n",
    "\n",
    "We are given a data sequence consisting on number of earthquakes for each year between the years 1900 and 2006."
   ]
  },
  {
   "cell_type": "code",
   "execution_count": 2,
   "id": "a4d4c007",
   "metadata": {},
   "outputs": [],
   "source": [
    "state_seq = []\n",
    "observation_seq = []\n",
    "f = open('earthquakes.txt','r')\n",
    "line = f.readline()\n",
    "while line:\n",
    "    line=line.rstrip().split('\t')\n",
    "    state_seq.append(int(line[0]))\n",
    "    observation_seq.append(int(line[1]))\n",
    "    line = f.readline()\n",
    "    \n",
    "state_seq = np.array(state_seq)\n",
    "observation_seq = np.array(observation_seq)"
   ]
  },
  {
   "cell_type": "code",
   "execution_count": 3,
   "id": "6bb81247",
   "metadata": {},
   "outputs": [
    {
     "data": {
      "image/png": "[encoded data removed]",
      "text/plain": [
       "<Figure size 432x288 with 1 Axes>"
      ]
     },
     "metadata": {
      "needs_background": "light"
     },
     "output_type": "display_data"
    }
   ],
   "source": [
    "fig, ax = plt.subplots()\n",
    "\n",
    "# the histogram of the data\n",
    "plt.bar(state_seq, observation_seq, color='lightblue')\n",
    "\n",
    "ax.set_xlabel('year')\n",
    "ax.set_ylabel('earthquakes')\n",
    "ax.set_title(r'Earthquakes between the years 1900 and 2006')\n",
    "\n",
    "# Tweak spacing to prevent clipping of ylabel\n",
    "fig.tight_layout()\n",
    "plt.show()\n"
   ]
  },
  {
   "cell_type": "markdown",
   "id": "d043768e",
   "metadata": {},
   "source": [
    "# Direct maximization of the likelihood\n",
    "\n",
    "The likelihood of a mixture model with m components is given, for both discrete and continuous cases by:\n",
    "\n",
    "\\begin{equation}\n",
    "\n",
    "L(\\theta_1,...,\\theta_m,\\delta_1,...,\\delta_m|x_1,...,x_n) = \\prod_{j=1}^n\\sum_{i=1}^m\\delta_ip_i(x_j,\\theta_i)\n",
    "\n",
    "\\end{equation}\n",
    "- Where $\\theta_1,...,\\theta_m$ are the paramenter vectors for the component distributions,\n",
    "- $\\delta_1,...,\\delta_m$ are the mixing parameters, totalling 1,\n",
    "- $x_1,...,x_n$ the $n$ observations.\n",
    "Supose $m = 2$, and the two components are Poisson-distributed, which means $\\lambda_1$ and $\\lambda_2$. Let $\\delta_1$ and $\\delta_2$ be the mixing parameters (with $\\delta_1+\\delta_2 =1$). The mixture distribution $p$ is then given by:\n",
    "\\begin{equation}\n",
    "p(x) = \\delta_1\\frac{\\lambda^x_1e^{-\\lambda_1}}{x!}+\\delta_2\\frac{\\lambda^x_2e^{-\\lambda_2}}{x!}\n",
    "\\end{equation}\n",
    "Since $\\delta_2 = 1 - \\delta_1$, there are only three parameters to be estimated: $\\lambda_1,\\lambda_2$ and $\\delta_1$. The likelihood is:\n",
    "\\begin{equation}\n",
    "L(\\lambda_1,\\lambda_2,\\delta_1|x_1,...,x_n) = \\prod_{i=1}^n\\delta_1\\frac{\\lambda^x_1e^{-\\lambda_1}}{x_i!}+(1-\\delta_1)\\frac{\\lambda^x_2e^{-\\lambda_2}}{x_i!}\n",
    "\\end{equation}\n",
    "\n",
    "The analytic maximization of $L$ with respect to $\\lambda_1,\\lambda_2$ and $\\delta_1$ would be awkward, as $L$ is the product of $n$ factors, each of which is a sum. Therefore parameter estimation is more conveniently carried out by direct numerical maximization of the likelihood or its logarithm.\n",
    "However, the parameters $\\delta$ and $\\lambda$ are constrained by $\\sum^m_{i=1}\\delta_i = 1$ and (for i=1,...,$m$)$\\delta_i>0$ and $\\lambda_i>0$. It is therefore necessary to reparametrize when using an unconstrained optimizer.\n",
    "One possibility is to maximize the likelihood with respect to the 2m-1 unconstrained 'working parameters'.\n",
    "\\begin{equation}\n",
    "\\eta_i = log\\lambda_i \\; (i=1,...,m)\n",
    "\\end{equation}\n",
    "and\n",
    "\\begin{equation}\n",
    "\\tau_i = log\\left( \\frac{\\delta_i}{1-\\sum^m_{j=2}\\delta_j}\\right) \\; (i=2,...,m)\n",
    "\\end{equation}\n",
    "and\n",
    "\\begin{equation}\n",
    "\\delta_1 = 1 - \\sum^m_{j=2}\\delta_i\n",
    "\\end{equation}"
   ]
  },
  {
   "cell_type": "markdown",
   "id": "b9c77bd2",
   "metadata": {},
   "source": [
    "## Hidden Markov Models"
   ]
  },
  {
   "cell_type": "markdown",
   "id": "8b51c29e",
   "metadata": {},
   "source": [
    "### The likelihood\n",
    "\n",
    "Consider a HMM in general with observation sequence $x_1,x_2,...,x_T$. The probability $L_T$ of observing that sequence is calculated under an m-state HMM which has initial distribution $\\delta$ and transition probability matrix $\\daleth$ for the markov chain and state-dependent probability (density) functions $p_i$.\n",
    "\n",
    "The likelihood is then given by:\n",
    "\\begin{equation}\n",
    "L_T = \\delta P(x_1)\\daleth P(x_2)...\\daleth P(x_T)1'\n",
    "\\end{equation}\n",
    "If $\\delta$, the distribution of $C_1$, is the stationary distribution of the Markov chain, then in addition:\n",
    "\\begin{equation}\n",
    "L_T = \\delta\\daleth P(x_1)\\daleth P(x_2)...\\daleth P(x_T)1'\n",
    "\\end{equation}\n",
    "\n",
    "A crucial consequence of this expression of the likelihood is the forward algorithm.\n",
    "\n",
    "#### The forward algorithm\n",
    "The forward algorithm is a recursive computation of the likelihood, which is computationally much more efficient than the brute-force summation. This computational inexpensiveness is the key feature of HMMs.\n",
    "\n",
    "We state the forward algorithm by the vector $\\alpha_t$, for $t=1,2,...,T$ by:\n",
    "\\begin{equation}\n",
    "\\alpha_t = \\delta P(x_1)\\daleth P(x_2)...\\daleth P(x_t) = \\delta P(x_1)\\prod_{s=2}^t\\daleth P(x_s)\n",
    "\\end{equation}\n",
    "So then the likelihood:\n",
    "\\begin{equation}\n",
    "L_T = \\alpha_T1'\n",
    "\\end{equation}\n",
    "and:\n",
    "\\begin{equation}\n",
    "\\alpha_t = \\alpha_{t-1}\\daleth P(x_t) \\;  for \\; t\\ge 2\n",
    "\\end{equation}\n",
    "\n",
    "The elements of the vector $\\alpha_t$ are referred as **forward probabilities**.\n",
    "The number of operations is of order Tm^2. But there are several numerical problems to overcome:\n",
    "\n",
    "- **Numerical (over/under)flow:** for discrete state-dependent distributions, the elements of $\\alpha_t$, being made up of products of probabilities, become progressively smaller as $t$ increases. For the continous case, it reaches $\\inf$. The solution is the same for over and underflow: scaling the vector $\\alpha_t$ at eacht time $t$ so that its elemets sum up to 1.\n",
    "\n",
    "\\begin{equation}\n",
    "\\phi_t = \\alpha_t/w_t, \\; with \\; w_t = \\sum_i\\alpha_t(i)\n",
    "\\end{equation}\n",
    "Hence,\n",
    "\\begin{equation}\n",
    "logL_T = \\sum_{t=1}^Tlog(w_t/w_{t-1}) = \\sum_{t=1}^Tlog(\\phi_{t-1}\\daleth P(x_t)1')\n",
    "\\end{equation}\n",
    "\n",
    "- **Constraints:** we can have constrains that apply to the parameters of the state-dependent distributions, and to the parameters of the Markov chain. The relevant constrains for a Poisson HMM are:\n",
    "    - the means $\\lambda_i$ of the state-dependent distributions must be non-negative. This is easily solved by defining $\\eta_i = \\log\\lambda_i$\n",
    "   \n",
    "    - The rows of the transition probability matrix $\\daleth$ must sum up to one, with all parameters $\\gamma_{ij}$ non-negative.\n"
   ]
  },
  {
   "cell_type": "markdown",
   "metadata": {},
   "source": [
    "### The code\n",
    "\n",
    "Here, the code for the maximum likelihood estimator of a Poisson distribution is implemented.\n",
    "\n",
    "First, we start with the helper functions that add the previously mentioned constraints to our parameters."
   ]
  },
  {
   "cell_type": "code",
   "execution_count": 4,
   "id": "98846603",
   "metadata": {},
   "outputs": [],
   "source": [
    "def remove_diag(x):\n",
    "    x_no_diag = np.ndarray.flatten(x)\n",
    "    x_no_diag = np.delete(x_no_diag, range(0, len(x_no_diag), len(x) + 1), 0)\n",
    "    x_no_diag = x_no_diag.reshape(len(x), len(x) - 1)\n",
    "    return x_no_diag\n",
    "def add_zero_diag(a):    \n",
    "    b = np.zeros((a.shape[0], a.shape[1]+1), dtype=a.dtype)\n",
    "    i = np.arange(b.shape[0])\n",
    "    j = np.arange(b.shape[1])\n",
    "    b[np.not_equal.outer(i, j)] = a.flat\n",
    "    return b\n",
    "\n",
    "\n",
    "def pn2pw(m,lmbda,gamma,delta=None,stationary=True):\n",
    "    '''natural parameters to working parametes'''    \n",
    "    # contraint for lambda\n",
    "    tlambda = np.log(lmbda)\n",
    "    if m == 1:\n",
    "        return tlambda\n",
    "    # contraint for transition probability matrix\n",
    "    tgamma = np.log(gamma/np.diag(gamma))\n",
    "    # discard diagonal elemets from the transformed vector\n",
    "    tau = remove_diag(tgamma)\n",
    "    print('tau',tau)\n",
    "    if stationary:\n",
    "        tdelta = None\n",
    "    else:\n",
    "        tdelta = np.log(delta)\n",
    "        \n",
    "    return tlambda,tau,tdelta\n",
    "    \n",
    "def pw2pn(m,tlambda,tau,tdelta,stationary=True):\n",
    "    ''' working to natural parameters'''\n",
    "    lmbda = np.exp(tlambda)\n",
    "        \n",
    "    # operations on tau to get off-diagonal elements of gamma\n",
    "    element_exp = np.exp(tau)\n",
    "    sumexp =1/(np.sum(element_exp,axis=1)+1).reshape((m,1))\n",
    "    gamma = element_exp*sumexp\n",
    "    # add diagonal elements to gamma\n",
    "    gamma = add_zero_diag(gamma)\n",
    "    gamma += np.diagflat(1-np.sum(gamma,axis=1))# fill diagonal making elements sum up to 1       \n",
    "    \n",
    "    if stationary:\n",
    "        delta = np.linalg.solve(np.identity(m)-gamma+np.ones((m,m)),np.ones((1,m)).T)\n",
    "    else:\n",
    "        edelta = np.exp(tdelta)\n",
    "        delta = edelta/np.sum(edelta,axis=0)\n",
    "        \n",
    "            \n",
    "    return lmbda,gamma,delta\n",
    "        "
   ]
  },
  {
   "cell_type": "markdown",
   "metadata": {},
   "source": [
    "This function returns the -log likelihood of the poisson distribution. This is the value that we want to minimize afterwards in the optimization."
   ]
  },
  {
   "cell_type": "code",
   "execution_count": 5,
   "id": "ce63fa87",
   "metadata": {},
   "outputs": [],
   "source": [
    "def poisson_mllk(vector,x,m,stationary):\n",
    "    ''' vector has to be a 1D vector '''\n",
    "    # read stored values\n",
    "    # iterate as start+cellsize*index\n",
    "    tlambda = vector[0:m].astype(float)\n",
    "    tau = vector[m:m+m*m-m].astype(float) # vector[m:m+m].astype(float)\n",
    "\n",
    "    tau = tau.reshape((m,m-1))\n",
    "    if stationary: tdelta = None\n",
    "    else: tdelta = vector[-m:]\n",
    "\n",
    "    # if we only have 1 state\n",
    "    if m==1: return (-np.sum(poisson.pmf(k=x,mu=np.exp(tlambda))))\n",
    "\n",
    "    # get natural parameters\n",
    "    lmbda,gamma,delta = pw2pn(m,tlambda,tau,tdelta,stationary=stationary)\n",
    "\n",
    "\n",
    "    # for initial value\n",
    "    alpha = delta.T * poisson.pmf(k=x[0],mu=lmbda)\n",
    "    sum_alpha = np.sum(alpha)\n",
    "    lscale = np.log(sum_alpha)\n",
    "    alpha = alpha/sum_alpha  \n",
    "\n",
    "    # for the rest of the values    \n",
    "    for i in range (len(x)):\n",
    "        alpha = alpha*np.matmul(gamma, poisson.pmf(k=x[i],mu=lmbda)) \n",
    "        sum_alpha = np.sum(alpha)\n",
    "        lscale += np.log(sum_alpha)\n",
    "        alpha = alpha/sum_alpha\n",
    "\n",
    "        \n",
    "    return -lscale"
   ]
  },
  {
   "cell_type": "markdown",
   "metadata": {},
   "source": [
    "Maximum likelihood estimator of the poisson distribution. It minimizes the -log-likelihood using the gradient descent algorithm. The parameters with which this optimization is computed are the lambda, gamma and delta values."
   ]
  },
  {
   "cell_type": "code",
   "execution_count": 6,
   "id": "9f96bfba",
   "metadata": {},
   "outputs": [],
   "source": [
    "def poisson_mle(x,observation_seq,m,lambda_ini,gamma_ini,delta_ini=None,stationary=True):\n",
    "    ''' maximum likelihood estimation for a poisson distribution,\n",
    "    given starting values for natural parameters'''\n",
    "    # convert params to working parameters\n",
    "    tlambda,tau,tdelta = pn2pw(m,lambda_ini,gamma_ini,delta_ini,stationary)\n",
    "    # store in a vector of params to be optimized\n",
    "    if tdelta is None: tdelta = 0\n",
    "    partvec = np.hstack([tlambda.flatten(),tau.flatten(),tdelta])\n",
    "    print('initial vector:', partvec)\n",
    "    print('initial log likelihood:',poisson_mllk(partvec,x,m,stationary))\n",
    "    # minimize log likelihood\n",
    "    min_log = minimize(poisson_mllk,partvec,args = (x,m,stationary),method='CG', tol=1e-3)\n",
    "    print('after minimization: \\n',min_log)\n",
    "    print(min_log.x)\n",
    "    # convert params from minimization to natural parameters\n",
    "    tlambda = min_log.x[0:m].astype(float)\n",
    "    tau = min_log.x[m:m+m*m-m].astype(float)\n",
    "    tau = tau.reshape((m,m-1))\n",
    "    tdelta = min_log.x[-1]\n",
    "    if tdelta==0: tdelta = None\n",
    "    else: tdelta = min_log.x[-m]\n",
    "    lmbda,gamma,delta = pw2pn(m,tlambda,tau,tdelta,stationary=stationary)\n",
    "    print('final lambda values',lmbda)\n",
    "    print('final gamma values', gamma)\n",
    "    plot_poisson(state_seq,x,lmbda)\n",
    "    "
   ]
  },
  {
   "cell_type": "code",
   "execution_count": 7,
   "metadata": {},
   "outputs": [],
   "source": [
    "def plot_poisson(state_seq, observation_seq, lmbda):\n",
    "    fig, ax = plt.subplots()\n",
    "\n",
    "    # the histogram of the data\n",
    "    plt.hist(observation_seq,20, density=True, facecolor='b', alpha=0.75)\n",
    "    for mu in lmbda:\n",
    "        plt.plot(observation_seq, poisson.pmf(observation_seq,mu), 'rs', lw=2 )\n",
    "\n",
    "    ax.set_xlabel('# earthquakes')\n",
    "    ax.set_ylabel('density')\n",
    "    ax.set_title(r'Earthquakes between the years 1900 and 2006')\n",
    "\n",
    "    # Tweak spacing to prevent clipping of ylabel\n",
    "    fig.tight_layout()\n",
    "    plt.show()"
   ]
  },
  {
   "cell_type": "markdown",
   "metadata": {},
   "source": [
    "Fit a 2-state Hidden Markov Model with a stationary distribution"
   ]
  },
  {
   "cell_type": "code",
   "execution_count": 8,
   "id": "tamil-warrior",
   "metadata": {},
   "outputs": [
    {
     "name": "stdout",
     "output_type": "stream",
     "text": [
      "tau [[-2.19722458]\n",
      " [-2.19722458]]\n",
      "initial vector: [ 2.30258509  2.99573227 -2.19722458 -2.19722458  0.        ]\n",
      "initial log likelihood: 381.2906309315037\n",
      "after minimization: \n",
      "      fun: 367.3028858908148\n",
      "     jac: array([ 1.10626221e-04,  5.72204590e-05, -2.67028809e-05,  4.73022461e-04,\n",
      "        0.00000000e+00])\n",
      " message: 'Optimization terminated successfully.'\n",
      "    nfev: 284\n",
      "     nit: 23\n",
      "    njev: 47\n",
      "  status: 0\n",
      " success: True\n",
      "       x: array([ 2.72434347,  3.23711528, -2.19721791,  0.43981852,  0.        ])\n",
      "[ 2.72434347  3.23711528 -2.19721791  0.43981852  0.        ]\n",
      "final lambda values [15.24640098 25.46017026]\n",
      "final gamma values [[0.8999994  0.1000006 ]\n",
      " [0.60821579 0.39178421]]\n"
     ]
    },
    {
     "data": {
      "image/png": "[encoded data removed]",
      "text/plain": [
       "<Figure size 432x288 with 1 Axes>"
      ]
     },
     "metadata": {
      "needs_background": "light"
     },
     "output_type": "display_data"
    }
   ],
   "source": [
    "m = 2\n",
    "lambda_ini = np.array([10,20])\n",
    "gamma_ini = np.array([[0.9,0.1],[0.1,0.9]])\n",
    "poisson_mle(observation_seq,state_seq,m,lambda_ini,gamma_ini,None,True)"
   ]
  },
  {
   "cell_type": "markdown",
   "metadata": {},
   "source": [
    "Fit a 2-state Hidden Markov Model with a nonstationary distribution"
   ]
  },
  {
   "cell_type": "code",
   "execution_count": 9,
   "metadata": {},
   "outputs": [
    {
     "name": "stdout",
     "output_type": "stream",
     "text": [
      "tau [[-2.19722458]\n",
      " [-2.19722458]]\n",
      "initial vector: [ 2.30258509  2.99573227 -2.19722458 -2.19722458 -0.69314718 -0.69314718]\n",
      "initial log likelihood: 381.2906309315037\n",
      "after minimization: \n",
      "      fun: 366.6097531131163\n",
      "     jac: array([ 3.43322754e-05,  4.19616699e-05, -3.81469727e-06,  3.81469727e-06,\n",
      "        1.14440918e-05, -1.14440918e-05])\n",
      " message: 'Optimization terminated successfully.'\n",
      "    nfev: 800\n",
      "     nit: 55\n",
      "    njev: 114\n",
      "  status: 0\n",
      " success: True\n",
      "       x: array([ 2.72433331,  3.23710564, -2.19705127,  0.43972182, -6.30592084,\n",
      "        4.91944539])\n",
      "[ 2.72433331  3.23710564 -2.19705127  0.43972182 -6.30592084  4.91944539]\n",
      "final lambda values [15.24624609 25.45992486]\n",
      "final gamma values [[0.8999844  0.1000156 ]\n",
      " [0.60819274 0.39180726]]\n"
     ]
    },
    {
     "data": {
      "image/png": "[encoded data removed]",
      "text/plain": [
       "<Figure size 432x288 with 1 Axes>"
      ]
     },
     "metadata": {
      "needs_background": "light"
     },
     "output_type": "display_data"
    }
   ],
   "source": [
    "m = 2\n",
    "lambda_ini = np.array([10,20])\n",
    "gamma_ini = np.array([[0.9,0.1],[0.1,0.9]])\n",
    "delta = np.array([0.5,0.5])\n",
    "poisson_mle(observation_seq,state_seq,m,lambda_ini,gamma_ini,delta,False)"
   ]
  },
  {
   "cell_type": "markdown",
   "metadata": {},
   "source": [
    "Fit a 3-state Hidden Markov Model with a nonstationary distribution"
   ]
  },
  {
   "cell_type": "code",
   "execution_count": 10,
   "metadata": {},
   "outputs": [
    {
     "name": "stdout",
     "output_type": "stream",
     "text": [
      "tau [[-3.6232292  -3.51083445]\n",
      " [-2.94968834 -2.62353126]\n",
      " [-2.25654115 -1.51807931]]\n",
      "initial vector: [ 2.56494936  2.99573227  3.40119738 -3.6232292  -3.51083445 -2.94968834\n",
      " -2.62353126 -2.25654115 -1.51807931 -0.82098055 -0.90510354 -1.88453287]\n",
      "initial log likelihood: 375.1404778941517\n",
      "after minimization: \n",
      "      fun: 360.1564069697381\n",
      "     jac: array([-2.78472900e-04, -4.76837158e-04,  1.64031982e-04,  0.00000000e+00,\n",
      "        0.00000000e+00, -6.10351562e-05, -1.44958496e-04,  0.00000000e+00,\n",
      "        0.00000000e+00,  3.73840332e-04, -7.59124756e-04,  3.85284424e-04])\n",
      " message: 'Optimization terminated successfully.'\n",
      "    nfev: 4030\n",
      "     nit: 165\n",
      "    njev: 310\n",
      "  status: 0\n",
      " success: True\n",
      "       x: array([ 2.43897488,  2.92037285,  3.41211983, -3.62330642, -3.51078939,\n",
      "       -1.35642304, -1.37454503, -2.25643303, -1.51804425, -3.84599393,\n",
      "        4.04711484, -3.81173111])\n",
      "[ 2.43897488  2.92037285  3.41211983 -3.62330642 -3.51078939 -1.35642304\n",
      " -1.37454503 -2.25643303 -1.51804425 -3.84599393  4.04711484 -3.81173111]\n",
      "final lambda values [11.46128554 18.54820192 30.32946943]\n",
      "final gamma values [[0.94646098 0.02526508 0.02827393]\n",
      " [0.17052267 0.66201704 0.16746029]\n",
      " [0.07910436 0.16553071 0.75536493]]\n"
     ]
    },
    {
     "data": {
      "image/png": "[encoded data removed]",
      "text/plain": [
       "<Figure size 432x288 with 1 Axes>"
      ]
     },
     "metadata": {
      "needs_background": "light"
     },
     "output_type": "display_data"
    }
   ],
   "source": [
    "m = 3\n",
    "lambda_ini = np.array([13,20,30])\n",
    "gamma_ini = np.array([[0.955,0.024,0.021],[0.05,0.899,0.051],[0.1,0.197,0.703]])\n",
    "delta = np.array([0.44,0.4045,0.1519])\n",
    "poisson_mle(observation_seq,state_seq,m,lambda_ini,gamma_ini,delta,False)"
   ]
  },
  {
   "cell_type": "markdown",
   "metadata": {},
   "source": [
    "# Standard errors via the Hessian\n",
    "\n",
    "One can estimate the standard errors from the Hessian of the log-likelihood at the maximum, but this approach runs into difficulties when one of the parameters are on the boundary of their parameter space, which occurs quite often when HMMs are fitted. An alternative here is the parametric bootstrap, which on the other sime is time-consuming.\n",
    "\n",
    "Although the point estimates are easy to compute, exact interval estimates are not available. Under certain regularity conditions, the MLEs of HMM parameters are consistent, asymptotically normal and efficient. Thus, if we can estimate the standard erros of MLEs, then, using the asymptotic normality, we can also compute the approximate confidence intervals. However, for mixture models, the sample size n has to be very large before the asymptotic theory of maximum likelihood applies.\n",
    "\n",
    "Having this in mind, we can use the approximate Hessian of minus log-likelihood at the minimum to estimate the standard erros of the MLEs of an HMM. We can invert it and so estimate the asymptotic variance-covariance matrix of the estimators of the parameters. However, we need the Hessian with respect to the natural parameters, and not the working parameters."
   ]
  },
  {
   "cell_type": "markdown",
   "id": "10c5a37e",
   "metadata": {},
   "source": [
    "# The EM algorithm \n",
    "\n",
    "## for a Mixture model of 3 Poisson distributions"
   ]
  },
  {
   "cell_type": "code",
   "execution_count": 11,
   "id": "b810d600",
   "metadata": {},
   "outputs": [],
   "source": [
    "from scipy.stats import poisson"
   ]
  },
  {
   "cell_type": "markdown",
   "id": "5f1d55ae",
   "metadata": {},
   "source": [
    "Assuming that the earthquakes data is distributed according to a Poisson mixture model, here I will implement the EM algorithm to learn the probability parameters.\n",
    "\n",
    "The data notation is as follows:\n",
    "\n",
    "   - The full data $(X,Y)$ corresponding to periods with high and low amounts of earthquakes.\n",
    "   - The observed data $ Y = y_i, i= 1,...,n$ corresponds to the number of earthquakes.\n",
    "   - The missing data is \"in what period we are for the amount of earthquakes\", $X = (x_1,...,x_n) \\in \\{1,2,3\\}^n$\n",
    "   - The parameters $\\theta = \\{\\lambda_1,\\lambda_2,\\lambda_3,\\delta_1,\\delta_2,\\delta_3\\}$\n",
    "   \n",
    "The EM algorithm converges towards a local maximum of the data log-likelihood function. It starts with an initializing value $\\theta^0$, which is updated by an iterative procedure of two steps: the E step and the M step.\n",
    "\n",
    "Considering a Poisson mixture of three components like we will do in this example, we have three disjoint events, with $\\delta_k$ the probability of being in each of the three classes.\n",
    "\\begin{equation}\n",
    "\\delta_1 = P(x_i=1), \\delta_2 = P(x_i=2), \\delta_3 = P(x_i=3) = 1-\\delta_1-\\delta_2\n",
    "\\end{equation}\n",
    "The probability of having our given data given that we are in a class k is given by:\n",
    "\\begin{equation}\n",
    "y_i|x_i = 1∼Po(\\lambda_1), y_i|x_i = 2∼Po(\\lambda_2), y_i|x_i = 3∼Po(\\lambda_3)\n",
    "\\end{equation}"
   ]
  },
  {
   "cell_type": "code",
   "execution_count": 12,
   "id": "70fab01a",
   "metadata": {},
   "outputs": [],
   "source": [
    "X = state_seq\n",
    "Y = observation_seq"
   ]
  },
  {
   "cell_type": "markdown",
   "id": "6bd5bc7f",
   "metadata": {},
   "source": [
    "### The E step"
   ]
  },
  {
   "cell_type": "markdown",
   "id": "abf99ea5",
   "metadata": {},
   "source": [
    "Since the complete log-likelihood is unknown, we use the posterior to evaluate the expectation of the complete data log-likelihood.\n",
    "\n",
    "Computes the conditional probability that the hidden state $x_i=1$\n",
    "\\begin{equation}\n",
    "P(X_i = 1 | Y_i = y_i) = \n",
    "\\end{equation}"
   ]
  },
  {
   "cell_type": "code",
   "execution_count": 13,
   "id": "8a52b38a",
   "metadata": {},
   "outputs": [],
   "source": [
    "def E_step(delta,lmbda,data):\n",
    "    # Handling errors\n",
    "    if np.sum(delta)!=1:\n",
    "        raise ValueError('Delta is not a probability distribution (the values dont sum up to 1)')\n",
    "    # Conditional probability of delta given y\n",
    "    delta_prob = 0\n",
    "    for i in range (len(lmbda)):\n",
    "        delta_prob += delta[i] * poisson.pmf(k=data,mu=lmbda[i])    \n",
    "        \n",
    "    # Conditional probability of each class given data\n",
    "    # Probability of mixture 1 to m\n",
    "    prob = []\n",
    "    for i in range (len(lmbda)-1):\n",
    "        prob.append(delta[i] * poisson.pmf(data,lmbda[i])/delta_prob)\n",
    "      \n",
    "    return prob"
   ]
  },
  {
   "cell_type": "markdown",
   "id": "b6e089aa",
   "metadata": {},
   "source": [
    "### The M step\n",
    "\n",
    "Updates the probability parameters so that they maximize the expected value of the data log likelihood."
   ]
  },
  {
   "cell_type": "code",
   "execution_count": 14,
   "id": "6d1b7e98",
   "metadata": {},
   "outputs": [],
   "source": [
    "def M_step(prob ,delta, lmbda, data):    \n",
    "    n_i = [] # number of times we expect to see each mixture, from xi = 1 to xi = m\n",
    "    s_i = [] # sum of data points in the indicator components\n",
    "    for i in range(len(lmbda)-1):\n",
    "        n_i.append(np.sum(prob[i]))\n",
    "        s_i.append(np.sum(data*prob[i]))\n",
    "    n_i.append(len(data)-np.sum(n_i))\n",
    "    s_i.append(np.sum(data)-np.sum(s_i))\n",
    "    \n",
    "    \n",
    "    delta = np.asarray(n_i)/len(data)\n",
    "    delta = np.append(delta,1-sum(delta))\n",
    "\n",
    "        \n",
    "    lmbda = np.divide(np.asarray(s_i),np.asarray(n_i))\n",
    "\n",
    "    \n",
    "    \n",
    "    return delta, lmbda"
   ]
  },
  {
   "cell_type": "code",
   "execution_count": 15,
   "id": "ea8b06c7",
   "metadata": {},
   "outputs": [],
   "source": [
    "def EM_algorithm(delta,lmbda,data,iterations):\n",
    "    prob = 0.\n",
    "    for i in range(iterations):\n",
    "        prob = E_step(delta,lmbda,Y)\n",
    "        delta,lmbda    = M_step(prob, delta,lmbda,Y)\n",
    "        \n",
    "    return delta,lmbda"
   ]
  },
  {
   "cell_type": "code",
   "execution_count": 16,
   "id": "8384eb8a",
   "metadata": {},
   "outputs": [
    {
     "data": {
      "text/plain": [
       "(array([0.27716677, 0.59308916, 0.12974408, 0.        ]),\n",
       " array([12.73203817, 19.78158473, 31.62645129]))"
      ]
     },
     "execution_count": 16,
     "metadata": {},
     "output_type": "execute_result"
    }
   ],
   "source": [
    "Y = observation_seq\n",
    "delta = np.array([0.5,0.4,0.1])\n",
    "lmbda = np.array([10.,20.,30.])\n",
    "EM_algorithm(delta,lmbda, Y, 100)"
   ]
  },
  {
   "cell_type": "markdown",
   "metadata": {},
   "source": [
    "## For Hidden Markov Models\n",
    "\n",
    "Now that we've studied the EM algorithm for mixture models, it's time to apply it to the Hidden Markov Model case.\n",
    "\n",
    "The EM algorithm is the most common method for finding maximum-likelihood estimates of HMMs. To do so, we will need the forward and backward probabilities.\n",
    "\n",
    "The forward probability was already formulated earlier in this notebook as:\n",
    "\n",
    "\\begin{equation}\n",
    "\\alpha_t = \\delta P(x_1)\\daleth P(x_2)...\\daleth P(x_t) = \\delta P(x_1)\\prod_{s=2}^t\\daleth P(x_s)\n",
    "\\end{equation}\n",
    "\n",
    "with $\\delta$ the initial distribution of the Markov chain.\n",
    "\n",
    "The vector of backward probabilities is defined by:\n",
    "\n",
    "\\begin{equation}\n",
    "\\beta_t = \\daleth P(x_1)\\daleth P(x_2)...\\daleth P(x_t)1' = \\left(\\prod_{s=t+1}^T\\daleth P(x_s)\\right)1'\n",
    "\\end{equation}\n",
    "\n",
    "The forward probabilities are joint probabilities, and the backward probabilities are conditional.\n",
    "\n",
    "A property of forward and backward probabilities that is applied in the EM algorithm to HMMs, follows that:\n",
    "\n",
    "For t = 1,2,...,T and i = 1,2,...,m,\n",
    "\\begin{equation}\n",
    "\\alpha_t(i)\\beta_t(i) = Pr(X^{(T)} = x^{(t)}, C_t = i),\n",
    "\\end{equation}\n",
    "and consequently,\n",
    "\\begin{equation}\n",
    "\\alpha_t\\beta'_t = Pr(X^{(T)} = x^{(t)}) = L_T,\n",
    "\\end{equation}\n",
    "for each such $t$.\n",
    "The next conclusion that follows from the matrix expression for the likelihood and the definitions of $\\alpha_t$ and $\\beta_t$:\n",
    "\\begin{align}\n",
    "L_T &= \\left( \\delta P(x_1)\\daleth P(x_2)...\\daleth P(x_t)\\right)\\left( \\daleth P(x_{t+1})...\\daleth P(x_T)1' \\right)\n",
    "&= \\alpha_t\\beta'_t\n",
    "\\end{align}"
   ]
  }
 ],
 "metadata": {
  "interpreter": {
   "hash": "723f24fb6b988431f975955e352dd8a1539263d396f5801e60cea3e9e9d17e92"
  },
  "kernelspec": {
   "display_name": "Python 3.6.9 64-bit ('cv': virtualenv)",
   "name": "python3"
  },
  "language_info": {
   "codemirror_mode": {
    "name": "ipython",
    "version": 3
   },
   "file_extension": ".py",
   "mimetype": "text/x-python",
   "name": "python",
   "nbconvert_exporter": "python",
   "pygments_lexer": "ipython3",
   "version": "3.6.9"
  }
 },
 "nbformat": 4,
 "nbformat_minor": 5
}
